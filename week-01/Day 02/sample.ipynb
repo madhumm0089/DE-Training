{
 "cells": [
  {
   "cell_type": "code",
   "execution_count": 5,
   "id": "9b989885",
   "metadata": {},
   "outputs": [
    {
     "name": "stdout",
     "output_type": "stream",
     "text": [
      "CPU times: total: 0 ns\n",
      "Wall time: 1.77 ms\n"
     ]
    },
    {
     "data": {
      "text/plain": [
       "4999950000"
      ]
     },
     "execution_count": 5,
     "metadata": {},
     "output_type": "execute_result"
    }
   ],
   "source": [
    "%time sum(range(100000))"
   ]
  },
  {
   "cell_type": "code",
   "execution_count": 2,
   "id": "14f7135c",
   "metadata": {},
   "outputs": [
    {
     "name": "stdout",
     "output_type": "stream",
     "text": [
      "Hello World!\n",
      "This is my first code in jupyter\n"
     ]
    }
   ],
   "source": [
    "print('Hello World!')\n",
    "print('This is my first code in jupyter')"
   ]
  },
  {
   "cell_type": "code",
   "execution_count": 3,
   "id": "5e3af4bc",
   "metadata": {},
   "outputs": [
    {
     "name": "stdout",
     "output_type": "stream",
     "text": [
      "[0, 1, 4, 9, 16, 25, 36, 49, 64, 81]\n",
      "[0, 2, 4, 6, 8]\n",
      "[0, 1, 4, 9, 16, 25, 36, 49, 64, 81]\n",
      "[0, 2, 4, 6, 8]\n"
     ]
    }
   ],
   "source": [
    "%run comprehersionsMap.py"
   ]
  },
  {
   "cell_type": "code",
   "execution_count": null,
   "id": "168bcba0",
   "metadata": {},
   "outputs": [],
   "source": [
    "# %load comprehersionsMap.py\n",
    "square = [x ** 2 for x in range(10)]\n",
    "evens = [x for x in range(10) if x % 2 ==0]\n",
    "\n",
    "print(square)\n",
    "print(evens)\n",
    "\n",
    "sq = list(map(lambda x: x**2, range(10)))\n",
    "even = list(filter(lambda i: i % 2 == 0, range(10)))\n",
    "\n",
    "print(sq)\n",
    "print(even)"
   ]
  }
 ],
 "metadata": {
  "kernelspec": {
   "display_name": "Python 3",
   "language": "python",
   "name": "python3"
  },
  "language_info": {
   "codemirror_mode": {
    "name": "ipython",
    "version": 3
   },
   "file_extension": ".py",
   "mimetype": "text/x-python",
   "name": "python",
   "nbconvert_exporter": "python",
   "pygments_lexer": "ipython3",
   "version": "3.13.5"
  }
 },
 "nbformat": 4,
 "nbformat_minor": 5
}
